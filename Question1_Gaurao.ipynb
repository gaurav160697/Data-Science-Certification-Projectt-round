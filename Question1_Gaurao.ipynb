{
 "cells": [
  {
   "cell_type": "code",
   "execution_count": null,
   "id": "40f2186f",
   "metadata": {},
   "outputs": [],
   "source": [
    "#Question1\n",
    "\n",
    "''''You work in a news agency & are responsible for identifying the most\n",
    "important topic for writing articles by your content team. Develop a\n",
    "Jupyter Notebook which on executing every time shows top 10 Twitter\n",
    "trending topics in India in the last 24 hours. Hints: Connecting with Twitter\n",
    "API. Bringing Dashboard-like behaviour in Jupyter notebook. Please note:\n",
    "Visualisation is mandatory. You will receive 0 marks if you do not add\n",
    "visualisation.'''"
   ]
  },
  {
   "cell_type": "code",
   "execution_count": 13,
   "id": "4a4b754c",
   "metadata": {},
   "outputs": [],
   "source": [
    "import tweepy"
   ]
  },
  {
   "cell_type": "code",
   "execution_count": 9,
   "id": "6ff74ad9",
   "metadata": {},
   "outputs": [],
   "source": [
    "#credential for developer account\n",
    "access_token = \"1710945531789504512-VQarJ3XjVKMG5qTBMI0elKzDYmh29a\"\n",
    "access_token_secret =\"uY5RO2a2Ddy1Yg1OX1KkLh6o5xw8xRY2YM1KDO9YBbquG\"\n",
    "consumer_key = \"VoDnBv3SGfkVMlEbkjWzXpFTN\"\n",
    "consumer_key_secret = \"bd7k8W9WcHeDvCCyfZmDxg0ZGsVoJOpSnxGWEcRbR9hglGveyL\""
   ]
  },
  {
   "cell_type": "code",
   "execution_count": 14,
   "id": "b612829c",
   "metadata": {},
   "outputs": [],
   "source": [
    "auth = tweepy.OAuthHandler(access_token, access_token_secret, consumer_key, consumer_key_secret)"
   ]
  },
  {
   "cell_type": "code",
   "execution_count": 18,
   "id": "f006b11d",
   "metadata": {},
   "outputs": [],
   "source": [
    "api = tweepy.API(auth)"
   ]
  },
  {
   "cell_type": "raw",
   "id": "366fc091",
   "metadata": {},
   "source": [
    "# API has been created"
   ]
  },
  {
   "cell_type": "code",
   "execution_count": 19,
   "id": "a64470e6",
   "metadata": {},
   "outputs": [],
   "source": [
    "from pytrends.request import TrendReq"
   ]
  },
  {
   "cell_type": "code",
   "execution_count": 20,
   "id": "24571fa7",
   "metadata": {},
   "outputs": [
    {
     "data": {
      "text/html": [
       "<div>\n",
       "<style scoped>\n",
       "    .dataframe tbody tr th:only-of-type {\n",
       "        vertical-align: middle;\n",
       "    }\n",
       "\n",
       "    .dataframe tbody tr th {\n",
       "        vertical-align: top;\n",
       "    }\n",
       "\n",
       "    .dataframe thead th {\n",
       "        text-align: right;\n",
       "    }\n",
       "</style>\n",
       "<table border=\"1\" class=\"dataframe\">\n",
       "  <thead>\n",
       "    <tr style=\"text-align: right;\">\n",
       "      <th></th>\n",
       "      <th>0</th>\n",
       "    </tr>\n",
       "  </thead>\n",
       "  <tbody>\n",
       "    <tr>\n",
       "      <th>0</th>\n",
       "      <td>Lebanon</td>\n",
       "    </tr>\n",
       "    <tr>\n",
       "      <th>1</th>\n",
       "      <td>Israel</td>\n",
       "    </tr>\n",
       "    <tr>\n",
       "      <th>2</th>\n",
       "      <td>Phillies</td>\n",
       "    </tr>\n",
       "    <tr>\n",
       "      <th>3</th>\n",
       "      <td>Powerball numbers</td>\n",
       "    </tr>\n",
       "    <tr>\n",
       "      <th>4</th>\n",
       "      <td>Dodgers</td>\n",
       "    </tr>\n",
       "    <tr>\n",
       "      <th>5</th>\n",
       "      <td>LSU Football</td>\n",
       "    </tr>\n",
       "    <tr>\n",
       "      <th>6</th>\n",
       "      <td>Maryland football</td>\n",
       "    </tr>\n",
       "    <tr>\n",
       "      <th>7</th>\n",
       "      <td>MLB</td>\n",
       "    </tr>\n",
       "    <tr>\n",
       "      <th>8</th>\n",
       "      <td>Orioles</td>\n",
       "    </tr>\n",
       "    <tr>\n",
       "      <th>9</th>\n",
       "      <td>Alabama vs Texas A&amp;M</td>\n",
       "    </tr>\n",
       "  </tbody>\n",
       "</table>\n",
       "</div>"
      ],
      "text/plain": [
       "                      0\n",
       "0               Lebanon\n",
       "1                Israel\n",
       "2              Phillies\n",
       "3     Powerball numbers\n",
       "4               Dodgers\n",
       "5          LSU Football\n",
       "6     Maryland football\n",
       "7                   MLB\n",
       "8               Orioles\n",
       "9  Alabama vs Texas A&M"
      ]
     },
     "execution_count": 20,
     "metadata": {},
     "output_type": "execute_result"
    }
   ],
   "source": [
    "pytrends = TrendReq(hl='en-US', tz=360)\n",
    "pytrends.trending_searches(pn='india')\n",
    "trends = pytrends.trending_searches().head(10)\n",
    "trends"
   ]
  },
  {
   "cell_type": "code",
   "execution_count": 27,
   "id": "91f47f48",
   "metadata": {},
   "outputs": [
    {
     "data": {
      "text/html": [
       "<div>\n",
       "<style scoped>\n",
       "    .dataframe tbody tr th:only-of-type {\n",
       "        vertical-align: middle;\n",
       "    }\n",
       "\n",
       "    .dataframe tbody tr th {\n",
       "        vertical-align: top;\n",
       "    }\n",
       "\n",
       "    .dataframe thead th {\n",
       "        text-align: right;\n",
       "    }\n",
       "</style>\n",
       "<table border=\"1\" class=\"dataframe\">\n",
       "  <thead>\n",
       "    <tr style=\"text-align: right;\">\n",
       "      <th></th>\n",
       "      <th>trends</th>\n",
       "    </tr>\n",
       "  </thead>\n",
       "  <tbody>\n",
       "    <tr>\n",
       "      <th>0</th>\n",
       "      <td>Lebanon</td>\n",
       "    </tr>\n",
       "    <tr>\n",
       "      <th>1</th>\n",
       "      <td>Israel</td>\n",
       "    </tr>\n",
       "    <tr>\n",
       "      <th>2</th>\n",
       "      <td>Phillies</td>\n",
       "    </tr>\n",
       "    <tr>\n",
       "      <th>3</th>\n",
       "      <td>Powerball numbers</td>\n",
       "    </tr>\n",
       "    <tr>\n",
       "      <th>4</th>\n",
       "      <td>Dodgers</td>\n",
       "    </tr>\n",
       "    <tr>\n",
       "      <th>5</th>\n",
       "      <td>LSU Football</td>\n",
       "    </tr>\n",
       "    <tr>\n",
       "      <th>6</th>\n",
       "      <td>Maryland football</td>\n",
       "    </tr>\n",
       "    <tr>\n",
       "      <th>7</th>\n",
       "      <td>MLB</td>\n",
       "    </tr>\n",
       "    <tr>\n",
       "      <th>8</th>\n",
       "      <td>Orioles</td>\n",
       "    </tr>\n",
       "    <tr>\n",
       "      <th>9</th>\n",
       "      <td>Alabama vs Texas A&amp;M</td>\n",
       "    </tr>\n",
       "  </tbody>\n",
       "</table>\n",
       "</div>"
      ],
      "text/plain": [
       "                 trends\n",
       "0               Lebanon\n",
       "1                Israel\n",
       "2              Phillies\n",
       "3     Powerball numbers\n",
       "4               Dodgers\n",
       "5          LSU Football\n",
       "6     Maryland football\n",
       "7                   MLB\n",
       "8               Orioles\n",
       "9  Alabama vs Texas A&M"
      ]
     },
     "execution_count": 27,
     "metadata": {},
     "output_type": "execute_result"
    }
   ],
   "source": [
    "import pandas as pd\n",
    "import matplotlib.pyplot as plt\n",
    "df = pd.DataFrame(trends)\n",
    "df.columns = [\"trends\"]\n",
    "df"
   ]
  },
  {
   "cell_type": "code",
   "execution_count": 29,
   "id": "7f10f14e",
   "metadata": {},
   "outputs": [],
   "source": [
    "df.insert(0, 'position', range(1, len(df) + 1))"
   ]
  },
  {
   "cell_type": "code",
   "execution_count": 30,
   "id": "8c1d8927",
   "metadata": {},
   "outputs": [
    {
     "data": {
      "image/png": "[encoded data removed]",
      "text/plain": [
       "<Figure size 1000x600 with 1 Axes>"
      ]
     },
     "metadata": {},
     "output_type": "display_data"
    }
   ],
   "source": [
    "# Sorting the DataFrame by position\n",
    "df = df.sort_values('position', ascending=True)\n",
    "\n",
    "# Plotting the horizontal bar chart\n",
    "plt.figure(figsize=(10, 6))\n",
    "plt.barh(df['position'], df['trends'], align='center', color='pink')\n",
    "plt.xlabel('Trending Topics', fontsize=12)\n",
    "plt.ylabel('Position', fontsize=12)\n",
    "plt.title('TOP 10 TRENDING TOPICS ON TWITTER IN INDIA', fontsize=14)\n",
    "plt.xticks(fontsize=8)\n",
    "plt.yticks(df['position'], fontsize=10)\n",
    "plt.gca().invert_yaxis()\n",
    "\n",
    "# Adding data labels\n",
    "for i, j in enumerate(df['trends']):\n",
    "    plt.text(j, df['position'][i], str(j), color='black', fontsize=12, va='center')\n",
    "\n",
    "# Removing the top and right spines\n",
    "plt.gca().spines['top'].set_visible(False)\n",
    "plt.gca().spines['right'].set_visible(False)\n",
    "\n",
    "# Displaying the chart\n",
    "plt.show()"
   ]
  },
  {
   "cell_type": "markdown",
   "id": "9bc8e98e",
   "metadata": {},
   "source": [
    "The above bar chart visualizing the top 10 topics trending in twitter"
   ]
  }
 ],
 "metadata": {
  "kernelspec": {
   "display_name": "Python 3 (ipykernel)",
   "language": "python",
   "name": "python3"
  },
  "language_info": {
   "codemirror_mode": {
    "name": "ipython",
    "version": 3
   },
   "file_extension": ".py",
   "mimetype": "text/x-python",
   "name": "python",
   "nbconvert_exporter": "python",
   "pygments_lexer": "ipython3",
   "version": "3.11.2"
  }
 },
 "nbformat": 4,
 "nbformat_minor": 5
}
